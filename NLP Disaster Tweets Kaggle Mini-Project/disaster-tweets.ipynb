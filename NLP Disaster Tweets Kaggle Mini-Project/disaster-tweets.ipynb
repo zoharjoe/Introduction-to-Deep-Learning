{
 "metadata": {
  "kernelspec": {
   "language": "python",
   "display_name": "Python 3",
   "name": "python3"
  },
  "language_info": {
   "name": "python",
   "version": "3.10.14",
   "mimetype": "text/x-python",
   "codemirror_mode": {
    "name": "ipython",
    "version": 3
   },
   "pygments_lexer": "ipython3",
   "nbconvert_exporter": "python",
   "file_extension": ".py"
  },
  "kaggle": {
   "accelerator": "nvidiaTeslaT4",
   "dataSources": [
    {
     "sourceId": 17777,
     "databundleVersionId": 869809,
     "sourceType": "competition"
    },
    {
     "sourceId": 6068,
     "sourceType": "modelInstanceVersion",
     "modelInstanceId": 4689,
     "modelId": 2821
    }
   ],
   "dockerImageVersionId": 30786,
   "isInternetEnabled": false,
   "language": "python",
   "sourceType": "notebook",
   "isGpuEnabled": true
  }
 },
 "nbformat_minor": 4,
 "nbformat": 4,
 "cells": [
  {
   "cell_type": "code",
   "source": [
    "# This Python 3 environment comes with many helpful analytics libraries installed\n",
    "# It is defined by the kaggle/python Docker image: https://github.com/kaggle/docker-python\n",
    "# For example, here's several helpful packages to load\n",
    "\n",
    "import numpy as np # linear algebra\n",
    "import pandas as pd # data processing, CSV file I/O (e.g. pd.read_csv)\n",
    "\n",
    "# Input data files are available in the read-only \"../input/\" directory\n",
    "# For example, running this (by clicking run or pressing Shift+Enter) will list all files under the input directory\n",
    "\n",
    "import os\n",
    "for dirname, _, filenames in os.walk('/kaggle/input'):\n",
    "    for filename in filenames:\n",
    "        print(os.path.join(dirname, filename))\n",
    "\n",
    "# You can write up to 20GB to the current directory (/kaggle/working/) that gets preserved as output when you create a version using \"Save & Run All\" \n",
    "# You can also write temporary files to /kaggle/temp/, but they won't be saved outside of the current session\n",
    "\n",
    "import warnings\n",
    "warnings.filterwarnings(\"ignore\")\n",
    "import tensorflow as tf\n",
    "from tensorflow import keras\n",
    "import keras_nlp\n",
    "from sklearn.metrics import ConfusionMatrixDisplay, confusion_matrix\n",
    "from sklearn.model_selection import train_test_split\n",
    "import seaborn as sns\n",
    "import matplotlib.pyplot as plt"
   ],
   "metadata": {
    "_uuid": "8f2839f25d086af736a60e9eeb907d3b93b6e0e5",
    "_cell_guid": "b1076dfc-b9ad-4769-8c92-a6c4dae69d19",
    "execution": {
     "iopub.status.busy": "2024-10-10T21:24:59.212807Z",
     "iopub.execute_input": "2024-10-10T21:24:59.213503Z",
     "iopub.status.idle": "2024-10-10T21:25:15.080634Z",
     "shell.execute_reply.started": "2024-10-10T21:24:59.213457Z",
     "shell.execute_reply": "2024-10-10T21:25:15.079681Z"
    },
    "trusted": true
   },
   "execution_count": 1,
   "outputs": [
    {
     "name": "stdout",
     "text": "/kaggle/input/distil_bert/keras/distil_bert_base_en_uncased/2/config.json\n/kaggle/input/distil_bert/keras/distil_bert_base_en_uncased/2/tokenizer.json\n/kaggle/input/distil_bert/keras/distil_bert_base_en_uncased/2/metadata.json\n/kaggle/input/distil_bert/keras/distil_bert_base_en_uncased/2/model.weights.h5\n/kaggle/input/distil_bert/keras/distil_bert_base_en_uncased/2/assets/tokenizer/vocabulary.txt\n/kaggle/input/nlp-getting-started/sample_submission.csv\n/kaggle/input/nlp-getting-started/train.csv\n/kaggle/input/nlp-getting-started/test.csv\n",
     "output_type": "stream"
    }
   ]
  },
  {
   "cell_type": "markdown",
   "source": [
    "Lets start by importing the data into training and testing "
   ],
   "metadata": {}
  },
  {
   "cell_type": "code",
   "source": [
    "df_train = pd.read_csv(\"/kaggle/input/nlp-getting-started/train.csv\")\n",
    "df_test = pd.read_csv(\"/kaggle/input/nlp-getting-started/test.csv\")"
   ],
   "metadata": {
    "execution": {
     "iopub.status.busy": "2024-10-10T21:25:15.082629Z",
     "iopub.execute_input": "2024-10-10T21:25:15.083102Z",
     "iopub.status.idle": "2024-10-10T21:25:15.156481Z",
     "shell.execute_reply.started": "2024-10-10T21:25:15.083068Z",
     "shell.execute_reply": "2024-10-10T21:25:15.155543Z"
    },
    "trusted": true
   },
   "execution_count": 2,
   "outputs": []
  },
  {
   "cell_type": "code",
   "source": [
    "# Get the shape of the training and testing set\n",
    "print('Training data shape', df_train.shape)\n",
    "print('Testing data shape', df_test.shape)"
   ],
   "metadata": {
    "execution": {
     "iopub.status.busy": "2024-10-10T21:25:15.157981Z",
     "iopub.execute_input": "2024-10-10T21:25:15.158436Z",
     "iopub.status.idle": "2024-10-10T21:25:15.163854Z",
     "shell.execute_reply.started": "2024-10-10T21:25:15.158394Z",
     "shell.execute_reply": "2024-10-10T21:25:15.162914Z"
    },
    "trusted": true
   },
   "execution_count": 3,
   "outputs": [
    {
     "name": "stdout",
     "text": "Training data shape (7613, 5)\nTesting data shape (3263, 4)\n",
     "output_type": "stream"
    }
   ]
  },
  {
   "cell_type": "markdown",
   "source": [
    "Now lets get some basic information about the data by viewing the head"
   ],
   "metadata": {}
  },
  {
   "cell_type": "code",
   "source": [
    "# Lets look at the head of the testing and training data\n",
    "df_train.head()"
   ],
   "metadata": {
    "execution": {
     "iopub.status.busy": "2024-10-10T21:25:15.165134Z",
     "iopub.execute_input": "2024-10-10T21:25:15.165537Z",
     "iopub.status.idle": "2024-10-10T21:25:15.188015Z",
     "shell.execute_reply.started": "2024-10-10T21:25:15.165503Z",
     "shell.execute_reply": "2024-10-10T21:25:15.187128Z"
    },
    "trusted": true
   },
   "execution_count": 4,
   "outputs": [
    {
     "execution_count": 4,
     "output_type": "execute_result",
     "data": {
      "text/plain": "   id keyword location                                               text  \\\n0   1     NaN      NaN  Our Deeds are the Reason of this #earthquake M...   \n1   4     NaN      NaN             Forest fire near La Ronge Sask. Canada   \n2   5     NaN      NaN  All residents asked to 'shelter in place' are ...   \n3   6     NaN      NaN  13,000 people receive #wildfires evacuation or...   \n4   7     NaN      NaN  Just got sent this photo from Ruby #Alaska as ...   \n\n   target  \n0       1  \n1       1  \n2       1  \n3       1  \n4       1  ",
      "text/html": "<div>\n<style scoped>\n    .dataframe tbody tr th:only-of-type {\n        vertical-align: middle;\n    }\n\n    .dataframe tbody tr th {\n        vertical-align: top;\n    }\n\n    .dataframe thead th {\n        text-align: right;\n    }\n</style>\n<table border=\"1\" class=\"dataframe\">\n  <thead>\n    <tr style=\"text-align: right;\">\n      <th></th>\n      <th>id</th>\n      <th>keyword</th>\n      <th>location</th>\n      <th>text</th>\n      <th>target</th>\n    </tr>\n  </thead>\n  <tbody>\n    <tr>\n      <th>0</th>\n      <td>1</td>\n      <td>NaN</td>\n      <td>NaN</td>\n      <td>Our Deeds are the Reason of this #earthquake M...</td>\n      <td>1</td>\n    </tr>\n    <tr>\n      <th>1</th>\n      <td>4</td>\n      <td>NaN</td>\n      <td>NaN</td>\n      <td>Forest fire near La Ronge Sask. Canada</td>\n      <td>1</td>\n    </tr>\n    <tr>\n      <th>2</th>\n      <td>5</td>\n      <td>NaN</td>\n      <td>NaN</td>\n      <td>All residents asked to 'shelter in place' are ...</td>\n      <td>1</td>\n    </tr>\n    <tr>\n      <th>3</th>\n      <td>6</td>\n      <td>NaN</td>\n      <td>NaN</td>\n      <td>13,000 people receive #wildfires evacuation or...</td>\n      <td>1</td>\n    </tr>\n    <tr>\n      <th>4</th>\n      <td>7</td>\n      <td>NaN</td>\n      <td>NaN</td>\n      <td>Just got sent this photo from Ruby #Alaska as ...</td>\n      <td>1</td>\n    </tr>\n  </tbody>\n</table>\n</div>"
     },
     "metadata": {}
    }
   ]
  },
  {
   "cell_type": "code",
   "source": [
    "df_test.head()"
   ],
   "metadata": {
    "execution": {
     "iopub.status.busy": "2024-10-10T21:25:15.190109Z",
     "iopub.execute_input": "2024-10-10T21:25:15.190420Z",
     "iopub.status.idle": "2024-10-10T21:25:15.199934Z",
     "shell.execute_reply.started": "2024-10-10T21:25:15.190389Z",
     "shell.execute_reply": "2024-10-10T21:25:15.199081Z"
    },
    "trusted": true
   },
   "execution_count": 5,
   "outputs": [
    {
     "execution_count": 5,
     "output_type": "execute_result",
     "data": {
      "text/plain": "   id keyword location                                               text\n0   0     NaN      NaN                 Just happened a terrible car crash\n1   2     NaN      NaN  Heard about #earthquake is different cities, s...\n2   3     NaN      NaN  there is a forest fire at spot pond, geese are...\n3   9     NaN      NaN           Apocalypse lighting. #Spokane #wildfires\n4  11     NaN      NaN      Typhoon Soudelor kills 28 in China and Taiwan",
      "text/html": "<div>\n<style scoped>\n    .dataframe tbody tr th:only-of-type {\n        vertical-align: middle;\n    }\n\n    .dataframe tbody tr th {\n        vertical-align: top;\n    }\n\n    .dataframe thead th {\n        text-align: right;\n    }\n</style>\n<table border=\"1\" class=\"dataframe\">\n  <thead>\n    <tr style=\"text-align: right;\">\n      <th></th>\n      <th>id</th>\n      <th>keyword</th>\n      <th>location</th>\n      <th>text</th>\n    </tr>\n  </thead>\n  <tbody>\n    <tr>\n      <th>0</th>\n      <td>0</td>\n      <td>NaN</td>\n      <td>NaN</td>\n      <td>Just happened a terrible car crash</td>\n    </tr>\n    <tr>\n      <th>1</th>\n      <td>2</td>\n      <td>NaN</td>\n      <td>NaN</td>\n      <td>Heard about #earthquake is different cities, s...</td>\n    </tr>\n    <tr>\n      <th>2</th>\n      <td>3</td>\n      <td>NaN</td>\n      <td>NaN</td>\n      <td>there is a forest fire at spot pond, geese are...</td>\n    </tr>\n    <tr>\n      <th>3</th>\n      <td>9</td>\n      <td>NaN</td>\n      <td>NaN</td>\n      <td>Apocalypse lighting. #Spokane #wildfires</td>\n    </tr>\n    <tr>\n      <th>4</th>\n      <td>11</td>\n      <td>NaN</td>\n      <td>NaN</td>\n      <td>Typhoon Soudelor kills 28 in China and Taiwan</td>\n    </tr>\n  </tbody>\n</table>\n</div>"
     },
     "metadata": {}
    }
   ]
  },
  {
   "cell_type": "code",
   "source": [
    "missing_cols = ['keyword', 'location']\n",
    "\n",
    "fig, axes = plt.subplots(ncols = 2, figsize = (17,4), dpi = 100)\n",
    "\n",
    "sns.barplot(x = df_train[missing_cols].isnull().sum().index, y=df_train[missing_cols].isnull().sum().values, ax=axes[0])\n",
    "\n",
    "sns.barplot(x = df_test[missing_cols].isnull().sum().index, y=df_test[missing_cols].isnull().sum().values, ax=axes[1])\n",
    "\n",
    "axes[0].set_ylabel('Missing Value Count', size=15, labelpad=20)\n",
    "axes[0].tick_params(axis = 'x', labelsize=15)\n",
    "axes[0].tick_params(axis = 'y', labelsize=15)\n",
    "axes[1].tick_params(axis = 'x', labelsize=15)\n",
    "axes[1].tick_params(axis = 'y', labelsize=15)\n",
    "\n",
    "axes[0].set_title('Training Data', fontsize=13)\n",
    "axes[1].set_title('Testing Data', fontsize=13)\n",
    "\n",
    "plt.show()\n",
    "\n",
    "for df in [df_train, df_test]:\n",
    "    for col in ['keyword', 'location']:\n",
    "        df[col] = df[col].fillna(f'no_{col}')"
   ],
   "metadata": {
    "execution": {
     "iopub.status.busy": "2024-10-10T21:25:15.200924Z",
     "iopub.execute_input": "2024-10-10T21:25:15.201200Z",
     "iopub.status.idle": "2024-10-10T21:25:15.635714Z",
     "shell.execute_reply.started": "2024-10-10T21:25:15.201144Z",
     "shell.execute_reply": "2024-10-10T21:25:15.634777Z"
    },
    "trusted": true
   },
   "execution_count": 6,
   "outputs": [
    {
     "output_type": "display_data",
     "data": {
      "text/plain": "<Figure size 1700x400 with 2 Axes>",
      "image/png": "[encoded data removed]"
     },
     "metadata": {}
    }
   ]
  },
  {
   "cell_type": "markdown",
   "source": [
    "As we can see here, both the training data and testing data has a lot of missing values for location parameter."
   ],
   "metadata": {}
  },
  {
   "cell_type": "markdown",
   "source": [
    "Now lets divide the data into training and validation sets"
   ],
   "metadata": {}
  },
  {
   "cell_type": "code",
   "source": [
    "batch_size = 32\n",
    "num_training_samples = df_train.shape[0]\n",
    "\n",
    "train_split = 0.8\n",
    "val_split = 0.2\n",
    "steps_per_epoch = int(num_training_samples) * train_split // batch_size\n",
    "\n",
    "epoch = 2\n",
    "auto = tf.data.experimental.AUTOTUNE"
   ],
   "metadata": {
    "execution": {
     "iopub.status.busy": "2024-10-10T21:25:15.636819Z",
     "iopub.execute_input": "2024-10-10T21:25:15.637245Z",
     "iopub.status.idle": "2024-10-10T21:25:15.642759Z",
     "shell.execute_reply.started": "2024-10-10T21:25:15.637199Z",
     "shell.execute_reply": "2024-10-10T21:25:15.641581Z"
    },
    "trusted": true
   },
   "execution_count": 7,
   "outputs": []
  },
  {
   "cell_type": "code",
   "source": [
    "X = df_train['text']\n",
    "y = df_train['target']\n",
    "\n",
    "X_train, X_val, y_train, y_val = train_test_split(X, y, test_size = val_split, random_state = 42)\n",
    "\n",
    "X_test = df_test['text']"
   ],
   "metadata": {
    "execution": {
     "iopub.status.busy": "2024-10-10T21:25:15.643978Z",
     "iopub.execute_input": "2024-10-10T21:25:15.644340Z",
     "iopub.status.idle": "2024-10-10T21:25:15.664495Z",
     "shell.execute_reply.started": "2024-10-10T21:25:15.644301Z",
     "shell.execute_reply": "2024-10-10T21:25:15.663472Z"
    },
    "trusted": true
   },
   "execution_count": 8,
   "outputs": []
  },
  {
   "cell_type": "markdown",
   "source": [
    "We're going to use the distilBERT model since it is significantly faster than BERT"
   ],
   "metadata": {}
  },
  {
   "cell_type": "code",
   "source": [
    "# Load the BERT model preset\n",
    "preset = \"distil_bert_base_en_uncased\"\n",
    "\n",
    "# Preprocessor: Use a shorter sequence\n",
    "preprocessor = keras_nlp.models.DistilBertPreprocessor.from_preset(\n",
    "    preset,\n",
    "    sequence_length = 160,\n",
    "    name = \"preprocessor_4_tweets\"\n",
    ")\n",
    "\n",
    "# Pretrained BERT classifier\n",
    "classifier = keras_nlp.models.DistilBertClassifier.from_preset(\n",
    "    preset,\n",
    "    preprocessor = preprocessor,\n",
    "    num_classes = 2\n",
    ")\n",
    "\n",
    "classifier.summary()"
   ],
   "metadata": {
    "execution": {
     "iopub.status.busy": "2024-10-10T21:25:15.665750Z",
     "iopub.execute_input": "2024-10-10T21:25:15.666058Z",
     "iopub.status.idle": "2024-10-10T21:25:23.348966Z",
     "shell.execute_reply.started": "2024-10-10T21:25:15.666025Z",
     "shell.execute_reply": "2024-10-10T21:25:23.348147Z"
    },
    "trusted": true
   },
   "execution_count": 9,
   "outputs": [
    {
     "output_type": "display_data",
     "data": {
      "text/plain": "\u001B[1mPreprocessor: \"preprocessor_4_tweets\"\u001B[0m\n",
      "text/html": "<pre style=\"white-space:pre;overflow-x:auto;line-height:normal;font-family:Menlo,'DejaVu Sans Mono',consolas,'Courier New',monospace\"><span style=\"font-weight: bold\">Preprocessor: \"preprocessor_4_tweets\"</span>\n</pre>\n"
     },
     "metadata": {}
    },
    {
     "output_type": "display_data",
     "data": {
      "text/plain": "┏━━━━━━━━━━━━━━━━━━━━━━━━━━━━━━━━━━━━━━━━━━━━━━━━━━━━━━━━━━━━━━━┳━━━━━━━━━━━━━━━━━━━━━━━━━━━━━━━━━━━━━━━━━━┓\n┃\u001B[1m \u001B[0m\u001B[1mLayer (type)                                                 \u001B[0m\u001B[1m \u001B[0m┃\u001B[1m \u001B[0m\u001B[1m                                  Config\u001B[0m\u001B[1m \u001B[0m┃\n┡━━━━━━━━━━━━━━━━━━━━━━━━━━━━━━━━━━━━━━━━━━━━━━━━━━━━━━━━━━━━━━━╇━━━━━━━━━━━━━━━━━━━━━━━━━━━━━━━━━━━━━━━━━━┩\n│ distil_bert_tokenizer (\u001B[38;5;33mDistilBertTokenizer\u001B[0m)                   │                       Vocab size: \u001B[38;5;34m30,522\u001B[0m │\n└───────────────────────────────────────────────────────────────┴──────────────────────────────────────────┘\n",
      "text/html": "<pre style=\"white-space:pre;overflow-x:auto;line-height:normal;font-family:Menlo,'DejaVu Sans Mono',consolas,'Courier New',monospace\">┏━━━━━━━━━━━━━━━━━━━━━━━━━━━━━━━━━━━━━━━━━━━━━━━━━━━━━━━━━━━━━━━┳━━━━━━━━━━━━━━━━━━━━━━━━━━━━━━━━━━━━━━━━━━┓\n┃<span style=\"font-weight: bold\"> Layer (type)                                                  </span>┃<span style=\"font-weight: bold\">                                   Config </span>┃\n┡━━━━━━━━━━━━━━━━━━━━━━━━━━━━━━━━━━━━━━━━━━━━━━━━━━━━━━━━━━━━━━━╇━━━━━━━━━━━━━━━━━━━━━━━━━━━━━━━━━━━━━━━━━━┩\n│ distil_bert_tokenizer (<span style=\"color: #0087ff; text-decoration-color: #0087ff\">DistilBertTokenizer</span>)                   │                       Vocab size: <span style=\"color: #00af00; text-decoration-color: #00af00\">30,522</span> │\n└───────────────────────────────────────────────────────────────┴──────────────────────────────────────────┘\n</pre>\n"
     },
     "metadata": {}
    },
    {
     "output_type": "display_data",
     "data": {
      "text/plain": "\u001B[1mModel: \"distil_bert_text_classifier\"\u001B[0m\n",
      "text/html": "<pre style=\"white-space:pre;overflow-x:auto;line-height:normal;font-family:Menlo,'DejaVu Sans Mono',consolas,'Courier New',monospace\"><span style=\"font-weight: bold\">Model: \"distil_bert_text_classifier\"</span>\n</pre>\n"
     },
     "metadata": {}
    },
    {
     "output_type": "display_data",
     "data": {
      "text/plain": "┏━━━━━━━━━━━━━━━━━━━━━━━━━━━━━━━┳━━━━━━━━━━━━━━━━━━━━━━━━━━━┳━━━━━━━━━━━━━━━━━┳━━━━━━━━━━━━━━━━━━━━━━━━━━━━┓\n┃\u001B[1m \u001B[0m\u001B[1mLayer (type)                 \u001B[0m\u001B[1m \u001B[0m┃\u001B[1m \u001B[0m\u001B[1mOutput Shape             \u001B[0m\u001B[1m \u001B[0m┃\u001B[1m \u001B[0m\u001B[1m        Param #\u001B[0m\u001B[1m \u001B[0m┃\u001B[1m \u001B[0m\u001B[1mConnected to              \u001B[0m\u001B[1m \u001B[0m┃\n┡━━━━━━━━━━━━━━━━━━━━━━━━━━━━━━━╇━━━━━━━━━━━━━━━━━━━━━━━━━━━╇━━━━━━━━━━━━━━━━━╇━━━━━━━━━━━━━━━━━━━━━━━━━━━━┩\n│ padding_mask (\u001B[38;5;33mInputLayer\u001B[0m)     │ (\u001B[38;5;45mNone\u001B[0m, \u001B[38;5;45mNone\u001B[0m)              │               \u001B[38;5;34m0\u001B[0m │ -                          │\n├───────────────────────────────┼───────────────────────────┼─────────────────┼────────────────────────────┤\n│ token_ids (\u001B[38;5;33mInputLayer\u001B[0m)        │ (\u001B[38;5;45mNone\u001B[0m, \u001B[38;5;45mNone\u001B[0m)              │               \u001B[38;5;34m0\u001B[0m │ -                          │\n├───────────────────────────────┼───────────────────────────┼─────────────────┼────────────────────────────┤\n│ distil_bert_backbone          │ (\u001B[38;5;45mNone\u001B[0m, \u001B[38;5;45mNone\u001B[0m, \u001B[38;5;34m768\u001B[0m)         │      \u001B[38;5;34m66,362,880\u001B[0m │ padding_mask[\u001B[38;5;34m0\u001B[0m][\u001B[38;5;34m0\u001B[0m],        │\n│ (\u001B[38;5;33mDistilBertBackbone\u001B[0m)          │                           │                 │ token_ids[\u001B[38;5;34m0\u001B[0m][\u001B[38;5;34m0\u001B[0m]            │\n├───────────────────────────────┼───────────────────────────┼─────────────────┼────────────────────────────┤\n│ get_item (\u001B[38;5;33mGetItem\u001B[0m)            │ (\u001B[38;5;45mNone\u001B[0m, \u001B[38;5;34m768\u001B[0m)               │               \u001B[38;5;34m0\u001B[0m │ distil_bert_backbone[\u001B[38;5;34m0\u001B[0m][\u001B[38;5;34m0\u001B[0m] │\n├───────────────────────────────┼───────────────────────────┼─────────────────┼────────────────────────────┤\n│ pooled_dense (\u001B[38;5;33mDense\u001B[0m)          │ (\u001B[38;5;45mNone\u001B[0m, \u001B[38;5;34m768\u001B[0m)               │         \u001B[38;5;34m590,592\u001B[0m │ get_item[\u001B[38;5;34m0\u001B[0m][\u001B[38;5;34m0\u001B[0m]             │\n├───────────────────────────────┼───────────────────────────┼─────────────────┼────────────────────────────┤\n│ output_dropout (\u001B[38;5;33mDropout\u001B[0m)      │ (\u001B[38;5;45mNone\u001B[0m, \u001B[38;5;34m768\u001B[0m)               │               \u001B[38;5;34m0\u001B[0m │ pooled_dense[\u001B[38;5;34m0\u001B[0m][\u001B[38;5;34m0\u001B[0m]         │\n├───────────────────────────────┼───────────────────────────┼─────────────────┼────────────────────────────┤\n│ logits (\u001B[38;5;33mDense\u001B[0m)                │ (\u001B[38;5;45mNone\u001B[0m, \u001B[38;5;34m2\u001B[0m)                 │           \u001B[38;5;34m1,538\u001B[0m │ output_dropout[\u001B[38;5;34m0\u001B[0m][\u001B[38;5;34m0\u001B[0m]       │\n└───────────────────────────────┴───────────────────────────┴─────────────────┴────────────────────────────┘\n",
      "text/html": "<pre style=\"white-space:pre;overflow-x:auto;line-height:normal;font-family:Menlo,'DejaVu Sans Mono',consolas,'Courier New',monospace\">┏━━━━━━━━━━━━━━━━━━━━━━━━━━━━━━━┳━━━━━━━━━━━━━━━━━━━━━━━━━━━┳━━━━━━━━━━━━━━━━━┳━━━━━━━━━━━━━━━━━━━━━━━━━━━━┓\n┃<span style=\"font-weight: bold\"> Layer (type)                  </span>┃<span style=\"font-weight: bold\"> Output Shape              </span>┃<span style=\"font-weight: bold\">         Param # </span>┃<span style=\"font-weight: bold\"> Connected to               </span>┃\n┡━━━━━━━━━━━━━━━━━━━━━━━━━━━━━━━╇━━━━━━━━━━━━━━━━━━━━━━━━━━━╇━━━━━━━━━━━━━━━━━╇━━━━━━━━━━━━━━━━━━━━━━━━━━━━┩\n│ padding_mask (<span style=\"color: #0087ff; text-decoration-color: #0087ff\">InputLayer</span>)     │ (<span style=\"color: #00d7ff; text-decoration-color: #00d7ff\">None</span>, <span style=\"color: #00d7ff; text-decoration-color: #00d7ff\">None</span>)              │               <span style=\"color: #00af00; text-decoration-color: #00af00\">0</span> │ -                          │\n├───────────────────────────────┼───────────────────────────┼─────────────────┼────────────────────────────┤\n│ token_ids (<span style=\"color: #0087ff; text-decoration-color: #0087ff\">InputLayer</span>)        │ (<span style=\"color: #00d7ff; text-decoration-color: #00d7ff\">None</span>, <span style=\"color: #00d7ff; text-decoration-color: #00d7ff\">None</span>)              │               <span style=\"color: #00af00; text-decoration-color: #00af00\">0</span> │ -                          │\n├───────────────────────────────┼───────────────────────────┼─────────────────┼────────────────────────────┤\n│ distil_bert_backbone          │ (<span style=\"color: #00d7ff; text-decoration-color: #00d7ff\">None</span>, <span style=\"color: #00d7ff; text-decoration-color: #00d7ff\">None</span>, <span style=\"color: #00af00; text-decoration-color: #00af00\">768</span>)         │      <span style=\"color: #00af00; text-decoration-color: #00af00\">66,362,880</span> │ padding_mask[<span style=\"color: #00af00; text-decoration-color: #00af00\">0</span>][<span style=\"color: #00af00; text-decoration-color: #00af00\">0</span>],        │\n│ (<span style=\"color: #0087ff; text-decoration-color: #0087ff\">DistilBertBackbone</span>)          │                           │                 │ token_ids[<span style=\"color: #00af00; text-decoration-color: #00af00\">0</span>][<span style=\"color: #00af00; text-decoration-color: #00af00\">0</span>]            │\n├───────────────────────────────┼───────────────────────────┼─────────────────┼────────────────────────────┤\n│ get_item (<span style=\"color: #0087ff; text-decoration-color: #0087ff\">GetItem</span>)            │ (<span style=\"color: #00d7ff; text-decoration-color: #00d7ff\">None</span>, <span style=\"color: #00af00; text-decoration-color: #00af00\">768</span>)               │               <span style=\"color: #00af00; text-decoration-color: #00af00\">0</span> │ distil_bert_backbone[<span style=\"color: #00af00; text-decoration-color: #00af00\">0</span>][<span style=\"color: #00af00; text-decoration-color: #00af00\">0</span>] │\n├───────────────────────────────┼───────────────────────────┼─────────────────┼────────────────────────────┤\n│ pooled_dense (<span style=\"color: #0087ff; text-decoration-color: #0087ff\">Dense</span>)          │ (<span style=\"color: #00d7ff; text-decoration-color: #00d7ff\">None</span>, <span style=\"color: #00af00; text-decoration-color: #00af00\">768</span>)               │         <span style=\"color: #00af00; text-decoration-color: #00af00\">590,592</span> │ get_item[<span style=\"color: #00af00; text-decoration-color: #00af00\">0</span>][<span style=\"color: #00af00; text-decoration-color: #00af00\">0</span>]             │\n├───────────────────────────────┼───────────────────────────┼─────────────────┼────────────────────────────┤\n│ output_dropout (<span style=\"color: #0087ff; text-decoration-color: #0087ff\">Dropout</span>)      │ (<span style=\"color: #00d7ff; text-decoration-color: #00d7ff\">None</span>, <span style=\"color: #00af00; text-decoration-color: #00af00\">768</span>)               │               <span style=\"color: #00af00; text-decoration-color: #00af00\">0</span> │ pooled_dense[<span style=\"color: #00af00; text-decoration-color: #00af00\">0</span>][<span style=\"color: #00af00; text-decoration-color: #00af00\">0</span>]         │\n├───────────────────────────────┼───────────────────────────┼─────────────────┼────────────────────────────┤\n│ logits (<span style=\"color: #0087ff; text-decoration-color: #0087ff\">Dense</span>)                │ (<span style=\"color: #00d7ff; text-decoration-color: #00d7ff\">None</span>, <span style=\"color: #00af00; text-decoration-color: #00af00\">2</span>)                 │           <span style=\"color: #00af00; text-decoration-color: #00af00\">1,538</span> │ output_dropout[<span style=\"color: #00af00; text-decoration-color: #00af00\">0</span>][<span style=\"color: #00af00; text-decoration-color: #00af00\">0</span>]       │\n└───────────────────────────────┴───────────────────────────┴─────────────────┴────────────────────────────┘\n</pre>\n"
     },
     "metadata": {}
    },
    {
     "output_type": "display_data",
     "data": {
      "text/plain": "\u001B[1m Total params: \u001B[0m\u001B[38;5;34m66,955,010\u001B[0m (255.41 MB)\n",
      "text/html": "<pre style=\"white-space:pre;overflow-x:auto;line-height:normal;font-family:Menlo,'DejaVu Sans Mono',consolas,'Courier New',monospace\"><span style=\"font-weight: bold\"> Total params: </span><span style=\"color: #00af00; text-decoration-color: #00af00\">66,955,010</span> (255.41 MB)\n</pre>\n"
     },
     "metadata": {}
    },
    {
     "output_type": "display_data",
     "data": {
      "text/plain": "\u001B[1m Trainable params: \u001B[0m\u001B[38;5;34m66,955,010\u001B[0m (255.41 MB)\n",
      "text/html": "<pre style=\"white-space:pre;overflow-x:auto;line-height:normal;font-family:Menlo,'DejaVu Sans Mono',consolas,'Courier New',monospace\"><span style=\"font-weight: bold\"> Trainable params: </span><span style=\"color: #00af00; text-decoration-color: #00af00\">66,955,010</span> (255.41 MB)\n</pre>\n"
     },
     "metadata": {}
    },
    {
     "output_type": "display_data",
     "data": {
      "text/plain": "\u001B[1m Non-trainable params: \u001B[0m\u001B[38;5;34m0\u001B[0m (0.00 B)\n",
      "text/html": "<pre style=\"white-space:pre;overflow-x:auto;line-height:normal;font-family:Menlo,'DejaVu Sans Mono',consolas,'Courier New',monospace\"><span style=\"font-weight: bold\"> Non-trainable params: </span><span style=\"color: #00af00; text-decoration-color: #00af00\">0</span> (0.00 B)\n</pre>\n"
     },
     "metadata": {}
    }
   ]
  },
  {
   "cell_type": "code",
   "source": [
    "# Compile the BERT Model\n",
    "classifier.compile(\n",
    "    loss = keras.losses.SparseCategoricalCrossentropy(from_logits = True),\n",
    "    optimizer = keras.optimizers.Adam(1e-5),\n",
    "    metrics = ['accuracy']\n",
    ")"
   ],
   "metadata": {
    "execution": {
     "iopub.status.busy": "2024-10-10T21:26:17.916730Z",
     "iopub.execute_input": "2024-10-10T21:26:17.917566Z",
     "iopub.status.idle": "2024-10-10T21:26:17.927028Z",
     "shell.execute_reply.started": "2024-10-10T21:26:17.917525Z",
     "shell.execute_reply": "2024-10-10T21:26:17.926208Z"
    },
    "trusted": true
   },
   "execution_count": 10,
   "outputs": []
  },
  {
   "cell_type": "code",
   "source": [
    "history = classifier.fit(\n",
    "    x = X_train,\n",
    "    y = y_train,\n",
    "    batch_size = batch_size,\n",
    "    epochs = epoch,\n",
    "    validation_data = (X_val, y_val)\n",
    ")"
   ],
   "metadata": {
    "execution": {
     "iopub.status.busy": "2024-10-10T21:26:20.203925Z",
     "iopub.execute_input": "2024-10-10T21:26:20.204897Z",
     "iopub.status.idle": "2024-10-10T21:31:09.862917Z",
     "shell.execute_reply.started": "2024-10-10T21:26:20.204845Z",
     "shell.execute_reply": "2024-10-10T21:31:09.861889Z"
    },
    "trusted": true
   },
   "execution_count": 11,
   "outputs": [
    {
     "name": "stdout",
     "text": "Epoch 1/2\n",
     "output_type": "stream"
    },
    {
     "name": "stderr",
     "text": "WARNING: All log messages before absl::InitializeLog() is called are written to STDERR\nI0000 00:00:1728595597.501051     118 service.cc:145] XLA service 0x7ea670003f60 initialized for platform CUDA (this does not guarantee that XLA will be used). Devices:\nI0000 00:00:1728595597.501114     118 service.cc:153]   StreamExecutor device (0): Tesla T4, Compute Capability 7.5\nI0000 00:00:1728595597.501120     118 service.cc:153]   StreamExecutor device (1): Tesla T4, Compute Capability 7.5\nWARNING: All log messages before absl::InitializeLog() is called are written to STDERR\nI0000 00:00:1728595621.191985     150 asm_compiler.cc:369] ptxas warning : Registers are spilled to local memory in function 'triton_gemm_dot_14690', 224 bytes spill stores, 224 bytes spill loads\n\nI0000 00:00:1728595628.620750     148 asm_compiler.cc:369] ptxas warning : Registers are spilled to local memory in function 'triton_gemm_dot_40', 1652 bytes spill stores, 1652 bytes spill loads\n\nI0000 00:00:1728595650.663293     118 asm_compiler.cc:369] ptxas warning : Registers are spilled to local memory in function 'loop_add_subtract_fusion_35', 64 bytes spill stores, 64 bytes spill loads\nptxas warning : Registers are spilled to local memory in function 'copy_fusion_2', 44 bytes spill stores, 44 bytes spill loads\n\nI0000 00:00:1728595650.719635     118 device_compiler.h:188] Compiled cluster using XLA!  This line is logged at most once for the lifetime of the process.\n",
     "output_type": "stream"
    },
    {
     "name": "stdout",
     "text": "\u001B[1m190/191\u001B[0m \u001B[32m━━━━━━━━━━━━━━━━━━━\u001B[0m\u001B[37m━\u001B[0m \u001B[1m0s\u001B[0m 389ms/step - accuracy: 0.7025 - loss: 0.5679",
     "output_type": "stream"
    },
    {
     "name": "stderr",
     "text": "I0000 00:00:1728595746.391873     180 asm_compiler.cc:369] ptxas warning : Registers are spilled to local memory in function 'triton_gemm_dot_235', 8 bytes spill stores, 8 bytes spill loads\n\nI0000 00:00:1728595749.439398     183 asm_compiler.cc:369] ptxas warning : Registers are spilled to local memory in function 'triton_gemm_dot_247', 16 bytes spill stores, 8 bytes spill loads\n\nI0000 00:00:1728595753.286606     181 asm_compiler.cc:369] ptxas warning : Registers are spilled to local memory in function 'triton_gemm_dot_235', 1256 bytes spill stores, 1212 bytes spill loads\n\nI0000 00:00:1728595774.097803     118 asm_compiler.cc:369] ptxas warning : Registers are spilled to local memory in function 'loop_add_subtract_fusion_27', 64 bytes spill stores, 64 bytes spill loads\n\n",
     "output_type": "stream"
    },
    {
     "name": "stdout",
     "text": "\u001B[1m191/191\u001B[0m \u001B[32m━━━━━━━━━━━━━━━━━━━━\u001B[0m\u001B[37m\u001B[0m \u001B[1m205s\u001B[0m 707ms/step - accuracy: 0.7033 - loss: 0.5671 - val_accuracy: 0.8418 - val_loss: 0.3898\nEpoch 2/2\n\u001B[1m191/191\u001B[0m \u001B[32m━━━━━━━━━━━━━━━━━━━━\u001B[0m\u001B[37m\u001B[0m \u001B[1m84s\u001B[0m 440ms/step - accuracy: 0.8412 - loss: 0.3754 - val_accuracy: 0.8516 - val_loss: 0.3824\n",
     "output_type": "stream"
    }
   ]
  },
  {
   "cell_type": "markdown",
   "source": [
    "Here the model performed decently well, with an accuracy of 0.84 on training and 0.85 on validation"
   ],
   "metadata": {}
  },
  {
   "cell_type": "code",
   "source": [
    "# Generate predictions on the val set\n",
    "y_pred = classifier.predict(X_val)\n",
    "\n",
    "def confMatrix(y_true, y_pred, dataset):\n",
    "    display = ConfusionMatrixDisplay.from_predictions(\n",
    "        y_true,\n",
    "        np.argmax(y_pred, axis=1),\n",
    "        display_labels = ['Not Disaster', 'Disaster'],\n",
    "        cmap = plt.cm.Reds\n",
    "    )\n",
    "    \n",
    "    tn, fp, fn, tp = confusion_matrix(y_true, np.argmax(y_pred, axis=1)).ravel()\n",
    "    f1_score = tp / (tp + ((fn + fp) / 2))\n",
    "    display.ax_.set_title(f\"Confusion Matrix on {dataset} Dataset -- F1 Score: {f1_score:.2f}\")\n",
    "    plt.show()\n",
    "    \n",
    "confMatrix(y_val, y_pred, \"Validation\")"
   ],
   "metadata": {
    "execution": {
     "iopub.status.busy": "2024-10-10T21:33:18.102664Z",
     "iopub.execute_input": "2024-10-10T21:33:18.103717Z",
     "iopub.status.idle": "2024-10-10T21:33:29.503886Z",
     "shell.execute_reply.started": "2024-10-10T21:33:18.103672Z",
     "shell.execute_reply": "2024-10-10T21:33:29.502879Z"
    },
    "trusted": true
   },
   "execution_count": 12,
   "outputs": [
    {
     "name": "stdout",
     "text": "\u001B[1m48/48\u001B[0m \u001B[32m━━━━━━━━━━━━━━━━━━━━\u001B[0m\u001B[37m\u001B[0m \u001B[1m10s\u001B[0m 176ms/step\n",
     "output_type": "stream"
    },
    {
     "output_type": "display_data",
     "data": {
      "text/plain": "<Figure size 640x480 with 2 Axes>",
      "image/png": "[encoded data removed]"
     },
     "metadata": {}
    }
   ]
  },
  {
   "cell_type": "markdown",
   "source": [
    "The confusion matrix shows that the model performs well overall, with a strong ability to correctly classify non-disaster tweets (793 true negatives) and a decent performance for disaster tweets (504 true positives), achieving an F1 score of 0.82. However, there are 145 false negatives, indicating the model could improve in detecting disasters, which may require further tuning or adjusting thresholds."
   ],
   "metadata": {}
  },
  {
   "cell_type": "code",
   "source": [
    "submission = pd.read_csv(\"/kaggle/input/nlp-getting-started/sample_submission.csv\")\n",
    "submission.head()"
   ],
   "metadata": {
    "trusted": true
   },
   "execution_count": null,
   "outputs": []
  },
  {
   "cell_type": "code",
   "source": [
    "submission[\"target\"] = np.argmax(classifier.predict(X_test), axis = 1)"
   ],
   "metadata": {
    "trusted": true
   },
   "execution_count": null,
   "outputs": []
  },
  {
   "cell_type": "code",
   "source": [
    "submission.describe()"
   ],
   "metadata": {
    "trusted": true
   },
   "execution_count": null,
   "outputs": []
  },
  {
   "cell_type": "code",
   "source": [
    "submission.to_csv(\"submission.csv\", index=False)"
   ],
   "metadata": {
    "trusted": true
   },
   "execution_count": null,
   "outputs": []
  }
 ]
}
